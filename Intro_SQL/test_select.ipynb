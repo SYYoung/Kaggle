{
 "cells": [
  {
   "cell_type": "code",
   "execution_count": 2,
   "metadata": {},
   "outputs": [],
   "source": [
    "from google.cloud import bigquery\n",
    "import pandas as pd"
   ]
  },
  {
   "cell_type": "code",
   "execution_count": 3,
   "metadata": {},
   "outputs": [],
   "source": [
    "client = bigquery.Client()"
   ]
  },
  {
   "cell_type": "code",
   "execution_count": 5,
   "metadata": {},
   "outputs": [
    {
     "name": "stdout",
     "output_type": "stream",
     "text": [
      "global_air_quality\n"
     ]
    }
   ],
   "source": [
    "data_ref = client.dataset(\"openaq\", project='bigquery-public-data')\n",
    "data = client.get_dataset(data_ref)\n",
    "\n",
    "tables = list(client.list_tables(data_ref))\n",
    "for t in tables:\n",
    "    print(t.table_id)"
   ]
  },
  {
   "cell_type": "code",
   "execution_count": 6,
   "metadata": {},
   "outputs": [],
   "source": [
    "table_ref = data_ref.table('global_air_quality')\n",
    "table = client.get_table(table_ref)"
   ]
  },
  {
   "cell_type": "code",
   "execution_count": 7,
   "metadata": {},
   "outputs": [
    {
     "data": {
      "text/plain": [
       "23086"
      ]
     },
     "execution_count": 7,
     "metadata": {},
     "output_type": "execute_result"
    }
   ],
   "source": [
    "table.num_rows"
   ]
  },
  {
   "cell_type": "code",
   "execution_count": 14,
   "metadata": {},
   "outputs": [],
   "source": [
    "query = \"\"\"\n",
    "    SELECT *\n",
    "    FROM `bigquery-public-data.openaq.global_air_quality`\n",
    "    WHERE country='US'\n",
    "    \"\"\""
   ]
  },
  {
   "cell_type": "code",
   "execution_count": 17,
   "metadata": {},
   "outputs": [
    {
     "name": "stdout",
     "output_type": "stream",
     "text": [
      "This query will process 2215620 bytes.\n"
     ]
    }
   ],
   "source": [
    "TWENTY_MB = 20*1000*1000\n",
    "dry_run_config = bigquery.QueryJobConfig(dry_run=True)\n",
    "dry_run_query_job = client.query(query, job_config=dry_run_config)\n",
    "print(\"This query will process {} bytes.\".format(dry_run_query_job.total_bytes_processed))"
   ]
  },
  {
   "cell_type": "code",
   "execution_count": 20,
   "metadata": {},
   "outputs": [],
   "source": [
    "safe_config = bigquery.QueryJobConfig(maximum_bytes_billed=TWENTY_MB)\n",
    "\n",
    "safe_query_job = client.query(query, job_config=safe_config)\n",
    "job_post_poll = safe_query_job.to_dataframe()"
   ]
  },
  {
   "cell_type": "code",
   "execution_count": 19,
   "metadata": {},
   "outputs": [
    {
     "data": {
      "text/plain": [
       "[SchemaField('location', 'STRING', 'NULLABLE', 'Location where data was measured', ()),\n",
       " SchemaField('city', 'STRING', 'NULLABLE', 'City containing location', ()),\n",
       " SchemaField('country', 'STRING', 'NULLABLE', 'Country containing measurement in 2 letter ISO code', ()),\n",
       " SchemaField('pollutant', 'STRING', 'NULLABLE', 'Name of the Pollutant being measured. Allowed values: PM25, PM10, SO2, NO2, O3, CO, BC', ()),\n",
       " SchemaField('value', 'FLOAT', 'NULLABLE', 'Latest measured value for the pollutant', ()),\n",
       " SchemaField('timestamp', 'TIMESTAMP', 'NULLABLE', 'The datetime at which the pollutant was measured, in ISO 8601 format', ()),\n",
       " SchemaField('unit', 'STRING', 'NULLABLE', 'The unit the value was measured in coded by UCUM Code', ()),\n",
       " SchemaField('source_name', 'STRING', 'NULLABLE', 'Name of the source of the data', ()),\n",
       " SchemaField('latitude', 'FLOAT', 'NULLABLE', 'Latitude in decimal degrees. Precision >3 decimal points.', ()),\n",
       " SchemaField('longitude', 'FLOAT', 'NULLABLE', 'Longitude in decimal degrees. Precision >3 decimal points.', ()),\n",
       " SchemaField('averaged_over_in_hours', 'FLOAT', 'NULLABLE', 'The number of hours the value was averaged over.', ())]"
      ]
     },
     "execution_count": 19,
     "metadata": {},
     "output_type": "execute_result"
    }
   ],
   "source": [
    "table.schema"
   ]
  },
  {
   "cell_type": "code",
   "execution_count": 21,
   "metadata": {},
   "outputs": [
    {
     "data": {
      "text/plain": [
       "3709"
      ]
     },
     "execution_count": 21,
     "metadata": {},
     "output_type": "execute_result"
    }
   ],
   "source": [
    "len(job_post_poll)"
   ]
  },
  {
   "cell_type": "code",
   "execution_count": 23,
   "metadata": {},
   "outputs": [
    {
     "data": {
      "text/plain": [
       "3.6840586411431837"
      ]
     },
     "execution_count": 23,
     "metadata": {},
     "output_type": "execute_result"
    }
   ],
   "source": [
    "job_post_poll.value.mean()"
   ]
  },
  {
   "cell_type": "code",
   "execution_count": 24,
   "metadata": {},
   "outputs": [
    {
     "data": {
      "text/html": [
       "<div>\n",
       "<style scoped>\n",
       "    .dataframe tbody tr th:only-of-type {\n",
       "        vertical-align: middle;\n",
       "    }\n",
       "\n",
       "    .dataframe tbody tr th {\n",
       "        vertical-align: top;\n",
       "    }\n",
       "\n",
       "    .dataframe thead th {\n",
       "        text-align: right;\n",
       "    }\n",
       "</style>\n",
       "<table border=\"1\" class=\"dataframe\">\n",
       "  <thead>\n",
       "    <tr style=\"text-align: right;\">\n",
       "      <th></th>\n",
       "      <th>location</th>\n",
       "      <th>city</th>\n",
       "      <th>country</th>\n",
       "      <th>pollutant</th>\n",
       "      <th>value</th>\n",
       "      <th>timestamp</th>\n",
       "      <th>unit</th>\n",
       "      <th>source_name</th>\n",
       "      <th>latitude</th>\n",
       "      <th>longitude</th>\n",
       "      <th>averaged_over_in_hours</th>\n",
       "    </tr>\n",
       "  </thead>\n",
       "  <tbody>\n",
       "    <tr>\n",
       "      <th>0</th>\n",
       "      <td>Portsmouth</td>\n",
       "      <td>Boston-Cambridge-Quincy</td>\n",
       "      <td>US</td>\n",
       "      <td>no2</td>\n",
       "      <td>7.0000</td>\n",
       "      <td>2020-02-26 13:00:00+00:00</td>\n",
       "      <td>µg/m³</td>\n",
       "      <td>DEFRA</td>\n",
       "      <td>43.075370</td>\n",
       "      <td>-70.748020</td>\n",
       "      <td>1.0</td>\n",
       "    </tr>\n",
       "    <tr>\n",
       "      <th>1</th>\n",
       "      <td>Aberdeen</td>\n",
       "      <td>BROWN</td>\n",
       "      <td>US</td>\n",
       "      <td>no2</td>\n",
       "      <td>13.0000</td>\n",
       "      <td>2020-03-16 15:00:00+00:00</td>\n",
       "      <td>µg/m³</td>\n",
       "      <td>DEFRA</td>\n",
       "      <td>45.468597</td>\n",
       "      <td>-98.494064</td>\n",
       "      <td>1.0</td>\n",
       "    </tr>\n",
       "    <tr>\n",
       "      <th>2</th>\n",
       "      <td>Aberdeen</td>\n",
       "      <td>BROWN</td>\n",
       "      <td>US</td>\n",
       "      <td>o3</td>\n",
       "      <td>39.0000</td>\n",
       "      <td>2020-03-16 17:00:00+00:00</td>\n",
       "      <td>µg/m³</td>\n",
       "      <td>DEFRA</td>\n",
       "      <td>45.468597</td>\n",
       "      <td>-98.494064</td>\n",
       "      <td>8.0</td>\n",
       "    </tr>\n",
       "    <tr>\n",
       "      <th>3</th>\n",
       "      <td>Freeport South Avenue I C1012</td>\n",
       "      <td>Houston</td>\n",
       "      <td>US</td>\n",
       "      <td>so2</td>\n",
       "      <td>0.0001</td>\n",
       "      <td>2016-03-06 18:00:00+00:00</td>\n",
       "      <td>ppm</td>\n",
       "      <td>Texas</td>\n",
       "      <td>28.964430</td>\n",
       "      <td>-95.354830</td>\n",
       "      <td>1.0</td>\n",
       "    </tr>\n",
       "    <tr>\n",
       "      <th>4</th>\n",
       "      <td>Lake Jackson C1016</td>\n",
       "      <td>Houston</td>\n",
       "      <td>US</td>\n",
       "      <td>no2</td>\n",
       "      <td>-0.0004</td>\n",
       "      <td>2016-03-06 18:00:00+00:00</td>\n",
       "      <td>ppm</td>\n",
       "      <td>Texas</td>\n",
       "      <td>29.043758</td>\n",
       "      <td>-95.472946</td>\n",
       "      <td>1.0</td>\n",
       "    </tr>\n",
       "  </tbody>\n",
       "</table>\n",
       "</div>"
      ],
      "text/plain": [
       "                        location                     city country pollutant  \\\n",
       "0                     Portsmouth  Boston-Cambridge-Quincy      US       no2   \n",
       "1                       Aberdeen                    BROWN      US       no2   \n",
       "2                       Aberdeen                    BROWN      US        o3   \n",
       "3  Freeport South Avenue I C1012                  Houston      US       so2   \n",
       "4             Lake Jackson C1016                  Houston      US       no2   \n",
       "\n",
       "     value                 timestamp   unit source_name   latitude  longitude  \\\n",
       "0   7.0000 2020-02-26 13:00:00+00:00  µg/m³       DEFRA  43.075370 -70.748020   \n",
       "1  13.0000 2020-03-16 15:00:00+00:00  µg/m³       DEFRA  45.468597 -98.494064   \n",
       "2  39.0000 2020-03-16 17:00:00+00:00  µg/m³       DEFRA  45.468597 -98.494064   \n",
       "3   0.0001 2016-03-06 18:00:00+00:00    ppm       Texas  28.964430 -95.354830   \n",
       "4  -0.0004 2016-03-06 18:00:00+00:00    ppm       Texas  29.043758 -95.472946   \n",
       "\n",
       "   averaged_over_in_hours  \n",
       "0                     1.0  \n",
       "1                     1.0  \n",
       "2                     8.0  \n",
       "3                     1.0  \n",
       "4                     1.0  "
      ]
     },
     "execution_count": 24,
     "metadata": {},
     "output_type": "execute_result"
    }
   ],
   "source": [
    "job_post_poll.head()"
   ]
  },
  {
   "cell_type": "code",
   "execution_count": 25,
   "metadata": {},
   "outputs": [],
   "source": [
    "## exercise"
   ]
  },
  {
   "cell_type": "code",
   "execution_count": 28,
   "metadata": {},
   "outputs": [],
   "source": [
    "query = \"\"\"\n",
    "        SELECT DISTINCT country\n",
    "        FROM `bigquery-public-data.openaq.global_air_quality`\n",
    "        WHERE unit = 'ppm'\n",
    "        \"\"\"\n",
    "\n",
    "safe_query_job = client.query(query, job_config=safe_config)\n",
    "new_df = safe_query_job.to_dataframe()"
   ]
  },
  {
   "cell_type": "code",
   "execution_count": 29,
   "metadata": {},
   "outputs": [
    {
     "data": {
      "text/plain": [
       "21"
      ]
     },
     "execution_count": 29,
     "metadata": {},
     "output_type": "execute_result"
    }
   ],
   "source": [
    "len(new_df)"
   ]
  },
  {
   "cell_type": "code",
   "execution_count": 30,
   "metadata": {},
   "outputs": [],
   "source": [
    "query = \"\"\"\n",
    "        SELECT *\n",
    "        FROM `bigquery-public-data.openaq.global_air_quality`\n",
    "        WHERE value = 0\n",
    "        \"\"\"\n",
    "\n",
    "safe_query_job = client.query(query, job_config=safe_config)\n",
    "new_df = safe_query_job.to_dataframe()"
   ]
  },
  {
   "cell_type": "code",
   "execution_count": 31,
   "metadata": {},
   "outputs": [
    {
     "data": {
      "text/plain": [
       "854"
      ]
     },
     "execution_count": 31,
     "metadata": {},
     "output_type": "execute_result"
    }
   ],
   "source": [
    "len(new_df)"
   ]
  },
  {
   "cell_type": "code",
   "execution_count": 32,
   "metadata": {},
   "outputs": [
    {
     "data": {
      "text/html": [
       "<div>\n",
       "<style scoped>\n",
       "    .dataframe tbody tr th:only-of-type {\n",
       "        vertical-align: middle;\n",
       "    }\n",
       "\n",
       "    .dataframe tbody tr th {\n",
       "        vertical-align: top;\n",
       "    }\n",
       "\n",
       "    .dataframe thead th {\n",
       "        text-align: right;\n",
       "    }\n",
       "</style>\n",
       "<table border=\"1\" class=\"dataframe\">\n",
       "  <thead>\n",
       "    <tr style=\"text-align: right;\">\n",
       "      <th></th>\n",
       "      <th>location</th>\n",
       "      <th>city</th>\n",
       "      <th>country</th>\n",
       "      <th>pollutant</th>\n",
       "      <th>value</th>\n",
       "      <th>timestamp</th>\n",
       "      <th>unit</th>\n",
       "      <th>source_name</th>\n",
       "      <th>latitude</th>\n",
       "      <th>longitude</th>\n",
       "      <th>averaged_over_in_hours</th>\n",
       "    </tr>\n",
       "  </thead>\n",
       "  <tbody>\n",
       "    <tr>\n",
       "      <th>0</th>\n",
       "      <td>Victoria Memorial - WBSPCB</td>\n",
       "      <td>Kolkata</td>\n",
       "      <td>IN</td>\n",
       "      <td>pm25</td>\n",
       "      <td>0.0</td>\n",
       "      <td>2017-10-16 20:45:00+00:00</td>\n",
       "      <td>µg/m³</td>\n",
       "      <td>CPCB</td>\n",
       "      <td>22.572645</td>\n",
       "      <td>88.363890</td>\n",
       "      <td>0.25</td>\n",
       "    </tr>\n",
       "    <tr>\n",
       "      <th>1</th>\n",
       "      <td>Rabindra Bharati University, Kolkata - WBSPCB</td>\n",
       "      <td>Kolkata</td>\n",
       "      <td>IN</td>\n",
       "      <td>so2</td>\n",
       "      <td>0.0</td>\n",
       "      <td>2017-10-28 14:30:00+00:00</td>\n",
       "      <td>µg/m³</td>\n",
       "      <td>CPCB</td>\n",
       "      <td>22.627874</td>\n",
       "      <td>88.380400</td>\n",
       "      <td>0.25</td>\n",
       "    </tr>\n",
       "    <tr>\n",
       "      <th>2</th>\n",
       "      <td>Końskie, MOBILNA</td>\n",
       "      <td>Końskie</td>\n",
       "      <td>PL</td>\n",
       "      <td>pm10</td>\n",
       "      <td>0.0</td>\n",
       "      <td>2018-12-21 13:00:00+00:00</td>\n",
       "      <td>µg/m³</td>\n",
       "      <td>GIOS</td>\n",
       "      <td>51.189526</td>\n",
       "      <td>20.408892</td>\n",
       "      <td>NaN</td>\n",
       "    </tr>\n",
       "    <tr>\n",
       "      <th>3</th>\n",
       "      <td>Końskie, MOBILNA</td>\n",
       "      <td>Końskie</td>\n",
       "      <td>PL</td>\n",
       "      <td>pm25</td>\n",
       "      <td>0.0</td>\n",
       "      <td>2018-12-21 13:00:00+00:00</td>\n",
       "      <td>µg/m³</td>\n",
       "      <td>GIOS</td>\n",
       "      <td>51.189526</td>\n",
       "      <td>20.408892</td>\n",
       "      <td>NaN</td>\n",
       "    </tr>\n",
       "    <tr>\n",
       "      <th>4</th>\n",
       "      <td>NałęczówMOB</td>\n",
       "      <td>Nałęczów</td>\n",
       "      <td>PL</td>\n",
       "      <td>bc</td>\n",
       "      <td>0.0</td>\n",
       "      <td>2019-08-27 04:00:00+00:00</td>\n",
       "      <td>µg/m³</td>\n",
       "      <td>GIOS</td>\n",
       "      <td>51.284930</td>\n",
       "      <td>22.210241</td>\n",
       "      <td>NaN</td>\n",
       "    </tr>\n",
       "  </tbody>\n",
       "</table>\n",
       "</div>"
      ],
      "text/plain": [
       "                                        location      city country pollutant  \\\n",
       "0                     Victoria Memorial - WBSPCB   Kolkata      IN      pm25   \n",
       "1  Rabindra Bharati University, Kolkata - WBSPCB   Kolkata      IN       so2   \n",
       "2                               Końskie, MOBILNA   Końskie      PL      pm10   \n",
       "3                               Końskie, MOBILNA   Końskie      PL      pm25   \n",
       "4                                    NałęczówMOB  Nałęczów      PL        bc   \n",
       "\n",
       "   value                 timestamp   unit source_name   latitude  longitude  \\\n",
       "0    0.0 2017-10-16 20:45:00+00:00  µg/m³        CPCB  22.572645  88.363890   \n",
       "1    0.0 2017-10-28 14:30:00+00:00  µg/m³        CPCB  22.627874  88.380400   \n",
       "2    0.0 2018-12-21 13:00:00+00:00  µg/m³        GIOS  51.189526  20.408892   \n",
       "3    0.0 2018-12-21 13:00:00+00:00  µg/m³        GIOS  51.189526  20.408892   \n",
       "4    0.0 2019-08-27 04:00:00+00:00  µg/m³        GIOS  51.284930  22.210241   \n",
       "\n",
       "   averaged_over_in_hours  \n",
       "0                    0.25  \n",
       "1                    0.25  \n",
       "2                     NaN  \n",
       "3                     NaN  \n",
       "4                     NaN  "
      ]
     },
     "execution_count": 32,
     "metadata": {},
     "output_type": "execute_result"
    }
   ],
   "source": [
    "new_df.head()"
   ]
  },
  {
   "cell_type": "code",
   "execution_count": 33,
   "metadata": {},
   "outputs": [
    {
     "data": {
      "text/plain": [
       "US    292\n",
       "CL    116\n",
       "ES     86\n",
       "PT     55\n",
       "IN     49\n",
       "AU     48\n",
       "TR     29\n",
       "AT     24\n",
       "FR     23\n",
       "CA     22\n",
       "TH     15\n",
       "BE     14\n",
       "IL     14\n",
       "MX      9\n",
       "DE      7\n",
       "IT      6\n",
       "PE      6\n",
       "PL      5\n",
       "GB      5\n",
       "DK      5\n",
       "RU      3\n",
       "BR      3\n",
       "BA      2\n",
       "AR      2\n",
       "IS      2\n",
       "NO      2\n",
       "CN      2\n",
       "KE      2\n",
       "HU      1\n",
       "MT      1\n",
       "FI      1\n",
       "MK      1\n",
       "MN      1\n",
       "AD      1\n",
       "Name: country, dtype: int64"
      ]
     },
     "execution_count": 33,
     "metadata": {},
     "output_type": "execute_result"
    }
   ],
   "source": [
    "new_df.country.value_counts()"
   ]
  },
  {
   "cell_type": "code",
   "execution_count": null,
   "metadata": {},
   "outputs": [],
   "source": []
  }
 ],
 "metadata": {
  "kernelspec": {
   "display_name": "Python 3",
   "language": "python",
   "name": "python3"
  },
  "language_info": {
   "codemirror_mode": {
    "name": "ipython",
    "version": 3
   },
   "file_extension": ".py",
   "mimetype": "text/x-python",
   "name": "python",
   "nbconvert_exporter": "python",
   "pygments_lexer": "ipython3",
   "version": "3.7.3"
  }
 },
 "nbformat": 4,
 "nbformat_minor": 4
}
