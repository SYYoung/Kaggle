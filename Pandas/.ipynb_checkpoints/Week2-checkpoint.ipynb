{
 "cells": [
  {
   "cell_type": "code",
   "execution_count": 9,
   "metadata": {},
   "outputs": [],
   "source": [
    "import pandas as pd\n",
    "import numpy as np\n",
    "%matplotlib inline"
   ]
  },
  {
   "cell_type": "code",
   "execution_count": 8,
   "metadata": {},
   "outputs": [
    {
     "data": {
      "text/html": [
       "<div>\n",
       "<style scoped>\n",
       "    .dataframe tbody tr th:only-of-type {\n",
       "        vertical-align: middle;\n",
       "    }\n",
       "\n",
       "    .dataframe tbody tr th {\n",
       "        vertical-align: top;\n",
       "    }\n",
       "\n",
       "    .dataframe thead th {\n",
       "        text-align: right;\n",
       "    }\n",
       "</style>\n",
       "<table border=\"1\" class=\"dataframe\">\n",
       "  <thead>\n",
       "    <tr style=\"text-align: right;\">\n",
       "      <th></th>\n",
       "      <th>country</th>\n",
       "      <th>description</th>\n",
       "      <th>designation</th>\n",
       "      <th>points</th>\n",
       "      <th>price</th>\n",
       "      <th>province</th>\n",
       "      <th>region_1</th>\n",
       "      <th>region_2</th>\n",
       "      <th>taster_name</th>\n",
       "      <th>taster_twitter_handle</th>\n",
       "      <th>title</th>\n",
       "      <th>variety</th>\n",
       "      <th>winery</th>\n",
       "    </tr>\n",
       "  </thead>\n",
       "  <tbody>\n",
       "    <tr>\n",
       "      <th>0</th>\n",
       "      <td>Italy</td>\n",
       "      <td>Aromas include tropical fruit, broom, brimston...</td>\n",
       "      <td>Vulkà Bianco</td>\n",
       "      <td>87</td>\n",
       "      <td>NaN</td>\n",
       "      <td>Sicily &amp; Sardinia</td>\n",
       "      <td>Etna</td>\n",
       "      <td>NaN</td>\n",
       "      <td>Kerin O’Keefe</td>\n",
       "      <td>@kerinokeefe</td>\n",
       "      <td>Nicosia 2013 Vulkà Bianco  (Etna)</td>\n",
       "      <td>White Blend</td>\n",
       "      <td>Nicosia</td>\n",
       "    </tr>\n",
       "    <tr>\n",
       "      <th>1</th>\n",
       "      <td>Portugal</td>\n",
       "      <td>This is ripe and fruity, a wine that is smooth...</td>\n",
       "      <td>Avidagos</td>\n",
       "      <td>87</td>\n",
       "      <td>15.0</td>\n",
       "      <td>Douro</td>\n",
       "      <td>NaN</td>\n",
       "      <td>NaN</td>\n",
       "      <td>Roger Voss</td>\n",
       "      <td>@vossroger</td>\n",
       "      <td>Quinta dos Avidagos 2011 Avidagos Red (Douro)</td>\n",
       "      <td>Portuguese Red</td>\n",
       "      <td>Quinta dos Avidagos</td>\n",
       "    </tr>\n",
       "  </tbody>\n",
       "</table>\n",
       "</div>"
      ],
      "text/plain": [
       "    country                                        description   designation  \\\n",
       "0     Italy  Aromas include tropical fruit, broom, brimston...  Vulkà Bianco   \n",
       "1  Portugal  This is ripe and fruity, a wine that is smooth...      Avidagos   \n",
       "\n",
       "   points  price           province region_1 region_2    taster_name  \\\n",
       "0      87    NaN  Sicily & Sardinia     Etna      NaN  Kerin O’Keefe   \n",
       "1      87   15.0              Douro      NaN      NaN     Roger Voss   \n",
       "\n",
       "  taster_twitter_handle                                          title  \\\n",
       "0          @kerinokeefe              Nicosia 2013 Vulkà Bianco  (Etna)   \n",
       "1            @vossroger  Quinta dos Avidagos 2011 Avidagos Red (Douro)   \n",
       "\n",
       "          variety               winery  \n",
       "0     White Blend              Nicosia  \n",
       "1  Portuguese Red  Quinta dos Avidagos  "
      ]
     },
     "execution_count": 8,
     "metadata": {},
     "output_type": "execute_result"
    }
   ],
   "source": [
    "reviews = pd.read_csv(\"./winemag-data-130k-v2.csv\", index_col=0)\n",
    "reviews.iloc[0:2]"
   ]
  },
  {
   "cell_type": "code",
   "execution_count": 6,
   "metadata": {},
   "outputs": [
    {
     "data": {
      "text/plain": [
       "count    129971.000000\n",
       "mean         88.447138\n",
       "std           3.039730\n",
       "min          80.000000\n",
       "25%          86.000000\n",
       "50%          88.000000\n",
       "75%          91.000000\n",
       "max         100.000000\n",
       "Name: points, dtype: float64"
      ]
     },
     "execution_count": 6,
     "metadata": {},
     "output_type": "execute_result"
    }
   ],
   "source": [
    "reviews.points.describe()"
   ]
  },
  {
   "cell_type": "code",
   "execution_count": 10,
   "metadata": {},
   "outputs": [
    {
     "data": {
      "text/plain": [
       "<matplotlib.axes._subplots.AxesSubplot at 0x107ba4978>"
      ]
     },
     "execution_count": 10,
     "metadata": {},
     "output_type": "execute_result"
    },
    {
     "data": {
      "image/png": "[encoded data removed]",
      "text/plain": [
       "<matplotlib.figure.Figure at 0x107bdf6a0>"
      ]
     },
     "metadata": {},
     "output_type": "display_data"
    }
   ],
   "source": [
    "reviews.points.hist()"
   ]
  },
  {
   "cell_type": "code",
   "execution_count": 13,
   "metadata": {},
   "outputs": [
    {
     "name": "stdout",
     "output_type": "stream",
     "text": [
      "country                                                          Australia\n",
      "description              This wine contains some material over 100 year...\n",
      "designation                                                           Rare\n",
      "points                                                                 100\n",
      "price                                                                  350\n",
      "province                                                          Victoria\n",
      "region_1                                                        Rutherglen\n",
      "region_2                                                               NaN\n",
      "taster_name                                                 Joe Czerwinski\n",
      "taster_twitter_handle                                               @JoeCz\n",
      "title                    Chambers Rosewood Vineyards NV Rare Muscat (Ru...\n",
      "variety                                                             Muscat\n",
      "winery                                         Chambers Rosewood Vineyards\n",
      "Name: 345, dtype: object\n"
     ]
    }
   ],
   "source": [
    "print(reviews.loc[reviews.points.idxmax()])"
   ]
  },
  {
   "cell_type": "code",
   "execution_count": 14,
   "metadata": {},
   "outputs": [
    {
     "data": {
      "text/plain": [
       "country                                                             France\n",
       "description              This ripe wine shows plenty of blackberry frui...\n",
       "designation                                                            NaN\n",
       "points                                                                  88\n",
       "price                                                                 3300\n",
       "province                                                          Bordeaux\n",
       "region_1                                                             Médoc\n",
       "region_2                                                               NaN\n",
       "taster_name                                                     Roger Voss\n",
       "taster_twitter_handle                                           @vossroger\n",
       "title                                 Château les Ormes Sorbet 2013  Médoc\n",
       "variety                                           Bordeaux-style Red Blend\n",
       "winery                                            Château les Ormes Sorbet\n",
       "Name: 80290, dtype: object"
      ]
     },
     "execution_count": 14,
     "metadata": {},
     "output_type": "execute_result"
    }
   ],
   "source": [
    "reviews.loc[reviews.price.idxmax()]"
   ]
  },
  {
   "cell_type": "code",
   "execution_count": 16,
   "metadata": {},
   "outputs": [
    {
     "data": {
      "text/plain": [
       "US                        0.419355\n",
       "France                    0.169984\n",
       "Italy                     0.150341\n",
       "Spain                     0.051127\n",
       "Portugal                  0.043787\n",
       "Chile                     0.034408\n",
       "Argentina                 0.029237\n",
       "Austria                   0.025737\n",
       "Australia                 0.017919\n",
       "Germany                   0.016658\n",
       "New Zealand               0.010918\n",
       "South Africa              0.010779\n",
       "Israel                    0.003885\n",
       "Greece                    0.003585\n",
       "Canada                    0.001977\n",
       "Hungary                   0.001123\n",
       "Bulgaria                  0.001085\n",
       "Romania                   0.000923\n",
       "Uruguay                   0.000839\n",
       "Turkey                    0.000692\n",
       "Slovenia                  0.000669\n",
       "Georgia                   0.000662\n",
       "England                   0.000569\n",
       "Croatia                   0.000562\n",
       "Mexico                    0.000539\n",
       "Moldova                   0.000454\n",
       "Brazil                    0.000400\n",
       "Lebanon                   0.000269\n",
       "Morocco                   0.000215\n",
       "Peru                      0.000123\n",
       "Ukraine                   0.000108\n",
       "Macedonia                 0.000092\n",
       "Czech Republic            0.000092\n",
       "Serbia                    0.000092\n",
       "Cyprus                    0.000085\n",
       "India                     0.000069\n",
       "Switzerland               0.000054\n",
       "Luxembourg                0.000046\n",
       "Bosnia and Herzegovina    0.000015\n",
       "Armenia                   0.000015\n",
       "Egypt                     0.000008\n",
       "China                     0.000008\n",
       "Slovakia                  0.000008\n",
       "Name: country, dtype: float64"
      ]
     },
     "execution_count": 16,
     "metadata": {},
     "output_type": "execute_result"
    }
   ],
   "source": [
    "reviews.country.value_counts()/len(reviews.country)"
   ]
  },
  {
   "cell_type": "code",
   "execution_count": 17,
   "metadata": {},
   "outputs": [
    {
     "data": {
      "text/plain": [
       "0        -1.447138\n",
       "1        -1.447138\n",
       "2        -1.447138\n",
       "3        -1.447138\n",
       "4        -1.447138\n",
       "5        -1.447138\n",
       "6        -1.447138\n",
       "7        -1.447138\n",
       "8        -1.447138\n",
       "9        -1.447138\n",
       "10       -1.447138\n",
       "11       -1.447138\n",
       "12       -1.447138\n",
       "13       -1.447138\n",
       "14       -1.447138\n",
       "15       -1.447138\n",
       "16       -1.447138\n",
       "17       -1.447138\n",
       "18       -1.447138\n",
       "19       -1.447138\n",
       "20       -1.447138\n",
       "21       -1.447138\n",
       "22       -1.447138\n",
       "23       -1.447138\n",
       "24       -1.447138\n",
       "25       -1.447138\n",
       "26       -1.447138\n",
       "27       -1.447138\n",
       "28       -1.447138\n",
       "29       -2.447138\n",
       "            ...   \n",
       "129941    1.552862\n",
       "129942    1.552862\n",
       "129943    1.552862\n",
       "129944    1.552862\n",
       "129945    1.552862\n",
       "129946    1.552862\n",
       "129947    1.552862\n",
       "129948    1.552862\n",
       "129949    1.552862\n",
       "129950    1.552862\n",
       "129951    1.552862\n",
       "129952    1.552862\n",
       "129953    1.552862\n",
       "129954    1.552862\n",
       "129955    1.552862\n",
       "129956    1.552862\n",
       "129957    1.552862\n",
       "129958    1.552862\n",
       "129959    1.552862\n",
       "129960    1.552862\n",
       "129961    1.552862\n",
       "129962    1.552862\n",
       "129963    1.552862\n",
       "129964    1.552862\n",
       "129965    1.552862\n",
       "129966    1.552862\n",
       "129967    1.552862\n",
       "129968    1.552862\n",
       "129969    1.552862\n",
       "129970    1.552862\n",
       "Name: points, Length: 129971, dtype: float64"
      ]
     },
     "execution_count": 17,
     "metadata": {},
     "output_type": "execute_result"
    }
   ],
   "source": [
    "review_points_mean = reviews.points.mean()\n",
    "reviews.points.map(lambda p: p-review_points_mean)"
   ]
  },
  {
   "cell_type": "code",
   "execution_count": 19,
   "metadata": {},
   "outputs": [
    {
     "data": {
      "text/plain": [
       "country                                                             France\n",
       "description              Big, rich and off-dry, this is powered by inte...\n",
       "designation                                  Lieu-dit Harth Cuvée Caroline\n",
       "points                                                                  90\n",
       "price                                                                   21\n",
       "province                                                            Alsace\n",
       "region_1                                                            Alsace\n",
       "region_2                                                               NaN\n",
       "taster_name                                                     Roger Voss\n",
       "taster_twitter_handle                                           @vossroger\n",
       "title                    Domaine Schoffit 2012 Lieu-dit Harth Cuvée Car...\n",
       "variety                                                     Gewürztraminer\n",
       "winery                                                    Domaine Schoffit\n",
       "Name: 129970, dtype: object"
      ]
     },
     "execution_count": 19,
     "metadata": {},
     "output_type": "execute_result"
    }
   ],
   "source": [
    "reviews.iloc[-1]"
   ]
  },
  {
   "cell_type": "code",
   "execution_count": 21,
   "metadata": {},
   "outputs": [
    {
     "data": {
      "text/plain": [
       "0.006778435189388402"
      ]
     },
     "execution_count": 21,
     "metadata": {},
     "output_type": "execute_result"
    }
   ],
   "source": [
    "len(reviews[reviews.points > 95])/len(reviews)"
   ]
  },
  {
   "cell_type": "code",
   "execution_count": 23,
   "metadata": {},
   "outputs": [
    {
     "data": {
      "text/plain": [
       "country                                                              Chile\n",
       "description              Aromas of pumpkin, squash and corn chips are s...\n",
       "designation                                                   Gran Reserva\n",
       "points                                                                  80\n",
       "price                                                                   19\n",
       "province                                                      Leyda Valley\n",
       "region_1                                                               NaN\n",
       "region_2                                                               NaN\n",
       "taster_name                                              Michael Schachner\n",
       "taster_twitter_handle                                          @wineschach\n",
       "title                    Viña Tarapacá 2015 Gran Reserva Chardonnay (Le...\n",
       "variety                                                         Chardonnay\n",
       "winery                                                       Viña Tarapacá\n",
       "Name: 344, dtype: object"
      ]
     },
     "execution_count": 23,
     "metadata": {},
     "output_type": "execute_result"
    }
   ],
   "source": [
    "reviews.iloc[reviews.points.idxmin()]"
   ]
  },
  {
   "cell_type": "code",
   "execution_count": 24,
   "metadata": {},
   "outputs": [
    {
     "data": {
      "text/plain": [
       "<matplotlib.axes._subplots.AxesSubplot at 0x109823da0>"
      ]
     },
     "execution_count": 24,
     "metadata": {},
     "output_type": "execute_result"
    },
    {
     "data": {
      "image/png": "[encoded data removed]",
      "text/plain": [
       "<matplotlib.figure.Figure at 0x109ab4240>"
      ]
     },
     "metadata": {},
     "output_type": "display_data"
    }
   ],
   "source": [
    "reviews.points.plot.box()"
   ]
  },
  {
   "cell_type": "code",
   "execution_count": 27,
   "metadata": {},
   "outputs": [
    {
     "data": {
      "text/plain": [
       "19"
      ]
     },
     "execution_count": 27,
     "metadata": {},
     "output_type": "execute_result"
    }
   ],
   "source": [
    "len(reviews[reviews.points >= 100])"
   ]
  },
  {
   "cell_type": "code",
   "execution_count": null,
   "metadata": {},
   "outputs": [],
   "source": []
  }
 ],
 "metadata": {
  "kernelspec": {
   "display_name": "Python 3",
   "language": "python",
   "name": "python3"
  },
  "language_info": {
   "codemirror_mode": {
    "name": "ipython",
    "version": 3
   },
   "file_extension": ".py",
   "mimetype": "text/x-python",
   "name": "python",
   "nbconvert_exporter": "python",
   "pygments_lexer": "ipython3",
   "version": "3.5.4"
  }
 },
 "nbformat": 4,
 "nbformat_minor": 2
}
